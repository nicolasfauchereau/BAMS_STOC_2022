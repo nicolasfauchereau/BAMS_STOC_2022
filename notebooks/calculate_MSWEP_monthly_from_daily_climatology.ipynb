{
 "cells": [
  {
   "cell_type": "markdown",
   "metadata": {},
   "source": [
    "### calculate the monthly precipitation mean daily rates from the daily MSWEP data, then climatologies "
   ]
  },
  {
   "cell_type": "code",
   "execution_count": 34,
   "metadata": {},
   "outputs": [],
   "source": [
    "%matplotlib inline\n",
    "\n",
    "### os \n",
    "import os \n",
    "import sys\n",
    "import pathlib\n",
    "\n",
    "### datetimes \n",
    "from datetime import datetime, timedelta\n",
    "\n",
    "### scipy \n",
    "import numpy as np \n",
    "import pandas as pd\n",
    "import xarray as xr\n",
    "\n",
    "### plotting \n",
    "from matplotlib import pyplot as plt"
   ]
  },
  {
   "cell_type": "code",
   "execution_count": 35,
   "metadata": {},
   "outputs": [],
   "source": [
    "from dask.diagnostics import ProgressBar"
   ]
  },
  {
   "cell_type": "code",
   "execution_count": 36,
   "metadata": {},
   "outputs": [],
   "source": [
    "def roll_longitudes(dset, lon_name='lon'): \n",
    "    \"\"\"\n",
    "    roll the longitudes of a dataset so that it goes from 0 to 360\n",
    "    instead of -180 to 180\n",
    "    Parameters\n",
    "    ----------\n",
    "    dset : xarray.Dataset\n",
    "        The input Dataset with the longitudes going from -180 to 180\n",
    "    lon_name : str, optional\n",
    "        The name of the longitude dimension, by default 'lon'\n",
    "        \n",
    "    Returns\n",
    "    -------\n",
    "    \n",
    "    dset : xarray.Dataset \n",
    "        Dataset with rolled longitudes \n",
    "    \"\"\"\n",
    "    \n",
    "    dset = dset.assign_coords({lon_name:(dset[lon_name] % 360)}).roll({lon_name:(dset.dims[lon_name] // 2)}, roll_coords=True)\n",
    "    \n",
    "    return dset"
   ]
  },
  {
   "cell_type": "code",
   "execution_count": 37,
   "metadata": {},
   "outputs": [],
   "source": [
    "def preprocess(dset): \n",
    "    \n",
    "    dset = dset.sortby('lat') \n",
    "    dset = roll_longitudes(dset) \n",
    "    dset = dset.sel(lat=slice(-40., 40.), lon=slice(110, 280))\n",
    "    return dset"
   ]
  },
  {
   "cell_type": "code",
   "execution_count": 38,
   "metadata": {},
   "outputs": [],
   "source": [
    "year_start = 1991\n",
    "year_stop = 2020 "
   ]
  },
  {
   "cell_type": "code",
   "execution_count": 39,
   "metadata": {},
   "outputs": [],
   "source": [
    "dpath = pathlib.Path('/media/nicolasf/END19101/ICU/data/glo2ho/MSWEP280/Past/Daily/') "
   ]
  },
  {
   "cell_type": "code",
   "execution_count": 40,
   "metadata": {},
   "outputs": [],
   "source": [
    "opath = pathlib.Path('/media/nicolasf/END19101/ICU/data/glo2ho/MSWEP280/climatologies/monthly') "
   ]
  },
  {
   "cell_type": "code",
   "execution_count": 41,
   "metadata": {},
   "outputs": [
    {
     "name": "stdout",
     "output_type": "stream",
     "text": [
      "[########################################] | 100% Completed | 107.71 s\n",
      "[########################################] | 100% Completed | 107.68 s\n",
      "[########################################] | 100% Completed | 108.39 s\n",
      "[########################################] | 100% Completed | 103.24 s\n",
      "[########################################] | 100% Completed | 101.80 s\n",
      "[########################################] | 100% Completed | 104.77 s\n",
      "[########################################] | 100% Completed | 102.49 s\n",
      "[########################################] | 100% Completed | 105.93 s\n",
      "[########################################] | 100% Completed | 105.40 s\n",
      "[########################################] | 100% Completed | 116.30 s\n",
      "[########################################] | 100% Completed | 122.35 s\n",
      "[########################################] | 100% Completed | 146.65 s\n",
      "[########################################] | 100% Completed | 147.90 s\n",
      "[########################################] | 100% Completed | 137.92 s\n",
      "[########################################] | 100% Completed | 123.97 s\n",
      "[########################################] | 100% Completed | 147.66 s\n",
      "[########################################] | 100% Completed | 153.45 s\n",
      "[########################################] | 100% Completed | 148.68 s\n",
      "[########################################] | 100% Completed | 131.18 s\n",
      "[########################################] | 100% Completed | 170.07 s\n",
      "[########################################] | 100% Completed | 152.25 s\n",
      "[########################################] | 100% Completed | 147.28 s\n",
      "[########################################] | 100% Completed | 130.68 s\n",
      "[########################################] | 100% Completed | 151.59 s\n",
      "[########################################] | 100% Completed | 159.90 s\n",
      "[########################################] | 100% Completed | 155.31 s\n",
      "[########################################] | 100% Completed | 130.82 s\n",
      "[########################################] | 100% Completed | 137.21 s\n",
      "[########################################] | 100% Completed | 166.23 s\n",
      "[########################################] | 100% Completed | 150.74 s\n"
     ]
    }
   ],
   "source": [
    "for year in np.arange(year_start, year_stop + 1):\n",
    "    \n",
    "    lfiles = list(dpath.glob(f\"{year}???.nc\"))\n",
    "    \n",
    "    lfiles.sort()\n",
    "    \n",
    "    dset = xr.open_mfdataset(lfiles, preprocess=preprocess, engine='netcdf4')\n",
    "    \n",
    "    dset = dset.chunk({'time':-1, 'lat':10, 'lon':10})\n",
    "    \n",
    "    dsetm = dset.resample(time='1M').mean()\n",
    "    \n",
    "    with ProgressBar(): \n",
    "        \n",
    "        dsetm = dsetm.compute()\n",
    "        \n",
    "        dsetm.to_netcdf(opath.joinpath(f'monthly_MSWEP_{year}.nc')) \n",
    "        \n",
    "    dsetm.close()"
   ]
  },
  {
   "cell_type": "markdown",
   "metadata": {},
   "source": [
    "### list the yearly files containing the monthly averages "
   ]
  },
  {
   "cell_type": "code",
   "execution_count": 42,
   "metadata": {},
   "outputs": [],
   "source": [
    "lfiles_clim = list(opath.glob(\"*.nc\"))"
   ]
  },
  {
   "cell_type": "code",
   "execution_count": 43,
   "metadata": {},
   "outputs": [
    {
     "data": {
      "text/plain": [
       "[PosixPath('/media/nicolasf/END19101/ICU/data/glo2ho/MSWEP280/climatologies/monthly/monthly_MSWEP_1991.nc'),\n",
       " PosixPath('/media/nicolasf/END19101/ICU/data/glo2ho/MSWEP280/climatologies/monthly/monthly_MSWEP_1992.nc'),\n",
       " PosixPath('/media/nicolasf/END19101/ICU/data/glo2ho/MSWEP280/climatologies/monthly/monthly_MSWEP_1993.nc'),\n",
       " PosixPath('/media/nicolasf/END19101/ICU/data/glo2ho/MSWEP280/climatologies/monthly/monthly_MSWEP_1994.nc'),\n",
       " PosixPath('/media/nicolasf/END19101/ICU/data/glo2ho/MSWEP280/climatologies/monthly/monthly_MSWEP_1995.nc'),\n",
       " PosixPath('/media/nicolasf/END19101/ICU/data/glo2ho/MSWEP280/climatologies/monthly/monthly_MSWEP_1996.nc'),\n",
       " PosixPath('/media/nicolasf/END19101/ICU/data/glo2ho/MSWEP280/climatologies/monthly/monthly_MSWEP_1997.nc'),\n",
       " PosixPath('/media/nicolasf/END19101/ICU/data/glo2ho/MSWEP280/climatologies/monthly/monthly_MSWEP_1998.nc'),\n",
       " PosixPath('/media/nicolasf/END19101/ICU/data/glo2ho/MSWEP280/climatologies/monthly/monthly_MSWEP_1999.nc'),\n",
       " PosixPath('/media/nicolasf/END19101/ICU/data/glo2ho/MSWEP280/climatologies/monthly/monthly_MSWEP_2000.nc'),\n",
       " PosixPath('/media/nicolasf/END19101/ICU/data/glo2ho/MSWEP280/climatologies/monthly/monthly_MSWEP_2001.nc'),\n",
       " PosixPath('/media/nicolasf/END19101/ICU/data/glo2ho/MSWEP280/climatologies/monthly/monthly_MSWEP_2002.nc'),\n",
       " PosixPath('/media/nicolasf/END19101/ICU/data/glo2ho/MSWEP280/climatologies/monthly/monthly_MSWEP_2003.nc'),\n",
       " PosixPath('/media/nicolasf/END19101/ICU/data/glo2ho/MSWEP280/climatologies/monthly/monthly_MSWEP_2004.nc'),\n",
       " PosixPath('/media/nicolasf/END19101/ICU/data/glo2ho/MSWEP280/climatologies/monthly/monthly_MSWEP_2005.nc'),\n",
       " PosixPath('/media/nicolasf/END19101/ICU/data/glo2ho/MSWEP280/climatologies/monthly/monthly_MSWEP_2006.nc'),\n",
       " PosixPath('/media/nicolasf/END19101/ICU/data/glo2ho/MSWEP280/climatologies/monthly/monthly_MSWEP_2007.nc'),\n",
       " PosixPath('/media/nicolasf/END19101/ICU/data/glo2ho/MSWEP280/climatologies/monthly/monthly_MSWEP_2008.nc'),\n",
       " PosixPath('/media/nicolasf/END19101/ICU/data/glo2ho/MSWEP280/climatologies/monthly/monthly_MSWEP_2009.nc'),\n",
       " PosixPath('/media/nicolasf/END19101/ICU/data/glo2ho/MSWEP280/climatologies/monthly/monthly_MSWEP_2010.nc'),\n",
       " PosixPath('/media/nicolasf/END19101/ICU/data/glo2ho/MSWEP280/climatologies/monthly/monthly_MSWEP_2011.nc'),\n",
       " PosixPath('/media/nicolasf/END19101/ICU/data/glo2ho/MSWEP280/climatologies/monthly/monthly_MSWEP_2012.nc'),\n",
       " PosixPath('/media/nicolasf/END19101/ICU/data/glo2ho/MSWEP280/climatologies/monthly/monthly_MSWEP_2013.nc'),\n",
       " PosixPath('/media/nicolasf/END19101/ICU/data/glo2ho/MSWEP280/climatologies/monthly/monthly_MSWEP_2014.nc'),\n",
       " PosixPath('/media/nicolasf/END19101/ICU/data/glo2ho/MSWEP280/climatologies/monthly/monthly_MSWEP_2015.nc'),\n",
       " PosixPath('/media/nicolasf/END19101/ICU/data/glo2ho/MSWEP280/climatologies/monthly/monthly_MSWEP_2016.nc'),\n",
       " PosixPath('/media/nicolasf/END19101/ICU/data/glo2ho/MSWEP280/climatologies/monthly/monthly_MSWEP_2017.nc'),\n",
       " PosixPath('/media/nicolasf/END19101/ICU/data/glo2ho/MSWEP280/climatologies/monthly/monthly_MSWEP_2018.nc'),\n",
       " PosixPath('/media/nicolasf/END19101/ICU/data/glo2ho/MSWEP280/climatologies/monthly/monthly_MSWEP_2019.nc'),\n",
       " PosixPath('/media/nicolasf/END19101/ICU/data/glo2ho/MSWEP280/climatologies/monthly/monthly_MSWEP_2020.nc')]"
      ]
     },
     "execution_count": 43,
     "metadata": {},
     "output_type": "execute_result"
    }
   ],
   "source": [
    "lfiles_clim"
   ]
  },
  {
   "cell_type": "code",
   "execution_count": 44,
   "metadata": {},
   "outputs": [],
   "source": [
    "lfiles_clim.sort()"
   ]
  },
  {
   "cell_type": "code",
   "execution_count": 46,
   "metadata": {},
   "outputs": [],
   "source": [
    "dset_clim = xr.open_mfdataset(lfiles_clim)"
   ]
  },
  {
   "cell_type": "code",
   "execution_count": 47,
   "metadata": {},
   "outputs": [],
   "source": [
    "clim = dset_clim.groupby(dset_clim.time.dt.month).mean('time')"
   ]
  },
  {
   "cell_type": "code",
   "execution_count": 49,
   "metadata": {},
   "outputs": [
    {
     "name": "stdout",
     "output_type": "stream",
     "text": [
      "[########################################] | 100% Completed | 18.51 ss\n"
     ]
    }
   ],
   "source": [
    "with ProgressBar(): \n",
    "    \n",
    "    clim = clim.compute()"
   ]
  },
  {
   "cell_type": "code",
   "execution_count": 51,
   "metadata": {},
   "outputs": [],
   "source": [
    "clim.to_netcdf('../data/MSWEP/Monthly_climatology_1991_2020.nc') "
   ]
  },
  {
   "cell_type": "code",
   "execution_count": null,
   "metadata": {},
   "outputs": [],
   "source": []
  }
 ],
 "metadata": {
  "kernelspec": {
   "display_name": "Python 3 (ipykernel)",
   "language": "python",
   "name": "python3"
  },
  "language_info": {
   "codemirror_mode": {
    "name": "ipython",
    "version": 3
   },
   "file_extension": ".py",
   "mimetype": "text/x-python",
   "name": "python",
   "nbconvert_exporter": "python",
   "pygments_lexer": "ipython3",
   "version": "3.8.13"
  }
 },
 "nbformat": 4,
 "nbformat_minor": 4
}
