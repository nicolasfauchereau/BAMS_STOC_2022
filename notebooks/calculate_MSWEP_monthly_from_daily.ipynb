{
 "cells": [
  {
   "cell_type": "markdown",
   "metadata": {},
   "source": [
    "### calculate the monthly precipitation accumulation from the daily MSWEP data for the Pacific region "
   ]
  },
  {
   "cell_type": "code",
   "execution_count": 1,
   "metadata": {},
   "outputs": [],
   "source": [
    "%matplotlib inline\n",
    "\n",
    "### os \n",
    "import os \n",
    "import sys\n",
    "\n",
    "### datetimes \n",
    "from datetime import datetime, timedelta\n",
    "\n",
    "### scipy \n",
    "import numpy as np \n",
    "import pandas as pd\n",
    "import xarray as xr\n",
    "\n",
    "### plotting \n",
    "from matplotlib import pyplot as plt"
   ]
  },
  {
   "cell_type": "code",
   "execution_count": 2,
   "metadata": {},
   "outputs": [],
   "source": [
    "def roll_longitudes(dset, lon_name='lon'): \n",
    "    \"\"\"\n",
    "    roll the longitudes of a dataset so that it goes from 0 to 360\n",
    "    instead of -180 to 180\n",
    "    Parameters\n",
    "    ----------\n",
    "    dset : xarray.Dataset\n",
    "        The input Dataset with the longitudes going from -180 to 180\n",
    "    lon_name : str, optional\n",
    "        The name of the longitude dimension, by default 'lon'\n",
    "        \n",
    "    Returns\n",
    "    -------\n",
    "    \n",
    "    dset : xarray.Dataset \n",
    "        Dataset with rolled longitudes \n",
    "    \"\"\"\n",
    "    \n",
    "    dset = dset.assign_coords({lon_name:(dset[lon_name] % 360)}).roll({lon_name:(dset.dims[lon_name] // 2)}, roll_coords=True)\n",
    "    \n",
    "    return dset"
   ]
  },
  {
   "cell_type": "code",
   "execution_count": 3,
   "metadata": {},
   "outputs": [],
   "source": [
    "def preprocess(dset): \n",
    "    \n",
    "    dset = dset.sortby('lat') \n",
    "    dset = roll_longitudes(dset) \n",
    "    dset = dset.sel(lat=slice(-40., 40.), lon=slice(110, 280))\n",
    "    return dset"
   ]
  },
  {
   "cell_type": "code",
   "execution_count": 4,
   "metadata": {},
   "outputs": [],
   "source": [
    "import pathlib\n",
    "\n",
    "HOME = pathlib.Path.home()\n",
    "CWD = pathlib.Path.cwd() "
   ]
  },
  {
   "cell_type": "code",
   "execution_count": null,
   "metadata": {},
   "outputs": [],
   "source": [
    "year_start = 1979 \n",
    "year_end = 2022"
   ]
  },
  {
   "cell_type": "code",
   "execution_count": 5,
   "metadata": {},
   "outputs": [],
   "source": [
    "dpath_NRT = pathlib.Path('/media/nicolasf/END19101/ICU/data/glo2ho/MSWEP280/NRT/Daily') "
   ]
  },
  {
   "cell_type": "code",
   "execution_count": 6,
   "metadata": {},
   "outputs": [],
   "source": [
    "dpath_past = pathlib.Path('/media/nicolasf/END19101/ICU/data/glo2ho/MSWEP280/Past/Daily/') "
   ]
  },
  {
   "cell_type": "code",
   "execution_count": 7,
   "metadata": {},
   "outputs": [],
   "source": [
    "opath = pathlib.Path('../data/MSWEP/monthly')"
   ]
  },
  {
   "cell_type": "code",
   "execution_count": 8,
   "metadata": {},
   "outputs": [],
   "source": [
    "clim = xr.open_dataset('../data/MSWEP/monthly/climatology/Monthly_climatology_1991_2020.nc')"
   ]
  },
  {
   "cell_type": "code",
   "execution_count": 9,
   "metadata": {},
   "outputs": [
    {
     "name": "stdout",
     "output_type": "stream",
     "text": [
      "1979: 364\n",
      "1980: 366\n",
      "1981: 365\n",
      "1982: 365\n",
      "1983: 365\n",
      "1984: 366\n",
      "1985: 365\n",
      "1986: 365\n",
      "1987: 365\n",
      "1988: 366\n",
      "1989: 365\n",
      "1990: 365\n",
      "1991: 365\n",
      "1992: 366\n",
      "1993: 365\n",
      "1994: 365\n",
      "1995: 365\n",
      "1996: 366\n",
      "1997: 365\n",
      "1998: 365\n",
      "1999: 365\n",
      "2000: 366\n",
      "2001: 365\n",
      "2002: 365\n",
      "2003: 365\n",
      "2004: 366\n",
      "2005: 365\n",
      "2006: 365\n",
      "2007: 365\n",
      "2008: 366\n",
      "2009: 365\n",
      "2010: 365\n",
      "2011: 365\n",
      "2012: 366\n",
      "2013: 365\n",
      "2014: 365\n",
      "2015: 365\n",
      "2016: 366\n",
      "2017: 365\n",
      "2018: 365\n",
      "2019: 365\n",
      "2020: 400\n",
      "2021: 365\n",
      "2022: 365\n"
     ]
    }
   ],
   "source": [
    "for year in np.arange(year_start, year_end + 1): \n",
    "    \n",
    "    lfiles_past = list(dpath_past.glob(f\"{year}???.nc\"))\n",
    "    \n",
    "    lfiles_NRT = list(dpath_NRT.glob(f\"{year}???.nc\"))\n",
    "    \n",
    "    lfiles = lfiles_past + lfiles_NRT\n",
    "    \n",
    "    print(f\"{year}: {len(lfiles)}\")\n",
    "    \n",
    "    lfiles.sort()\n",
    "    \n",
    "    dset = xr.open_mfdataset(lfiles, preprocess=preprocess, engine='netcdf4')\n",
    "\n",
    "    dset = dset.chunk({'time':-1, 'lat':'auto', 'lon':'auto'})\n",
    "    \n",
    "    dsetm = dset.resample(time='1M').mean()\n",
    "    \n",
    "    clim = xr.open_dataset('../data/MSWEP/monthly/climatology/Monthly_climatology_1991_2020.nc')  \n",
    "    \n",
    "    anoms = dsetm.groupby(dsetm.time.dt.month) - clim\n",
    "    \n",
    "    dsetm.to_netcdf(opath.joinpath(f'MSWEP_monthly_from_daily_{year}.nc'))\n",
    "    \n",
    "    anoms.to_netcdf(opath.joinpath(f'MSWEP_monthly_anoms_from_daily_{year}.nc'))\n",
    "    \n",
    "    dset.close()\n",
    "    \n",
    "    dsetm.close() \n",
    "    \n",
    "    anoms.close() "
   ]
  },
  {
   "cell_type": "code",
   "execution_count": null,
   "metadata": {},
   "outputs": [],
   "source": [
    " "
   ]
  }
 ],
 "metadata": {
  "kernelspec": {
   "display_name": "Python 3 (ipykernel)",
   "language": "python",
   "name": "python3"
  },
  "language_info": {
   "codemirror_mode": {
    "name": "ipython",
    "version": 3
   },
   "file_extension": ".py",
   "mimetype": "text/x-python",
   "name": "python",
   "nbconvert_exporter": "python",
   "pygments_lexer": "ipython3",
   "version": "3.8.13"
  }
 },
 "nbformat": 4,
 "nbformat_minor": 4
}
